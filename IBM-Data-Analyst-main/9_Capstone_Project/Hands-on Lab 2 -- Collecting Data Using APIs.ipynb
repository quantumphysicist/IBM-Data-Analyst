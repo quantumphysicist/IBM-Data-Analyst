{
 "cells": [
  {
   "cell_type": "markdown",
   "metadata": {},
   "source": [
    "<center>\n",
    "    <img src=\"https://gitlab.com/ibm/skills-network/courses/placeholder101/-/raw/master/labs/module%201/images/IDSNlogo.png\" width=\"300\" alt=\"cognitiveclass.ai logo\"  />\n",
    "</center>\n"
   ]
  },
  {
   "cell_type": "markdown",
   "metadata": {},
   "source": [
    "# **Collecting Job Data Using APIs**\n"
   ]
  },
  {
   "cell_type": "markdown",
   "metadata": {},
   "source": [
    "## Objectives\n"
   ]
  },
  {
   "cell_type": "markdown",
   "metadata": {},
   "source": [
    "-   Collect job data from GitHub Jobs API\n",
    "-   Store the collected data in an Excel spreadsheet. \n"
   ]
  },
  {
   "cell_type": "markdown",
   "metadata": {},
   "source": [
    "## Warm-Up Exercise\n"
   ]
  },
  {
   "cell_type": "markdown",
   "metadata": {},
   "source": [
    "Before you attempt the actual lab, here is a fully solved warmup exercise that will help you to learn how to access an API.\n"
   ]
  },
  {
   "cell_type": "markdown",
   "metadata": {},
   "source": [
    "Using an API, let us find out who currently are on the International Space Station (ISS).<br> The API at [http://api.open-notify.org/astros.json](http://api.open-notify.org/astros.json?cm_mmc=Email_Newsletter-_-Developer_Ed%2BTech-_-WW_WW-_-SkillsNetwork-Courses-IBM-DA0321EN-SkillsNetwork-21426264&cm_mmca1=000026UJ&cm_mmca2=10006555&cm_mmca3=M12345678&cvosrc=email.Newsletter.M12345678&cvo_campaign=000026UJ&cm_mmc=Email_Newsletter-_-Developer_Ed%2BTech-_-WW_WW-_-SkillsNetwork-Courses-IBM-DA0321EN-SkillsNetwork-21426264&cm_mmca1=000026UJ&cm_mmca2=10006555&cm_mmca3=M12345678&cvosrc=email.Newsletter.M12345678&cvo_campaign=000026UJ&cm_mmc=Email_Newsletter-_-Developer_Ed%2BTech-_-WW_WW-_-SkillsNetwork-Courses-IBM-DA0321EN-SkillsNetwork-21426264&cm_mmca1=000026UJ&cm_mmca2=10006555&cm_mmca3=M12345678&cvosrc=email.Newsletter.M12345678&cvo_campaign=000026UJ&cm_mmc=Email_Newsletter-_-Developer_Ed%2BTech-_-WW_WW-_-SkillsNetwork-Courses-IBM-DA0321EN-SkillsNetwork-21426264&cm_mmca1=000026UJ&cm_mmca2=10006555&cm_mmca3=M12345678&cvosrc=email.Newsletter.M12345678&cvo_campaign=000026UJ&cm_mmc=Email_Newsletter-_-Developer_Ed%2BTech-_-WW_WW-_-SkillsNetwork-Courses-IBM-DA0321EN-SkillsNetwork-21426264&cm_mmca1=000026UJ&cm_mmca2=10006555&cm_mmca3=M12345678&cvosrc=email.Newsletter.M12345678&cvo_campaign=000026UJ&cm_mmc=Email_Newsletter-_-Developer_Ed%2BTech-_-WW_WW-_-SkillsNetwork-Courses-IBM-DA0321EN-SkillsNetwork-21426264&cm_mmca1=000026UJ&cm_mmca2=10006555&cm_mmca3=M12345678&cvosrc=email.Newsletter.M12345678&cvo_campaign=000026UJ&cm_mmc=Email_Newsletter-_-Developer_Ed%2BTech-_-WW_WW-_-SkillsNetwork-Courses-IBM-DA0321EN-SkillsNetwork-21426264&cm_mmca1=000026UJ&cm_mmca2=10006555&cm_mmca3=M12345678&cvosrc=email.Newsletter.M12345678&cvo_campaign=000026UJ&cm_mmc=Email_Newsletter-_-Developer_Ed%2BTech-_-WW_WW-_-SkillsNetwork-Courses-IBM-DA0321EN-SkillsNetwork-21426264&cm_mmca1=000026UJ&cm_mmca2=10006555&cm_mmca3=M12345678&cvosrc=email.Newsletter.M12345678&cvo_campaign=000026UJ) gives us the information of astronauts currently on ISS in json format.<br>\n",
    "You can read more about this API at [http://open-notify.org/Open-Notify-API/People-In-Space/](http://open-notify.org/Open-Notify-API/People-In-Space?cm_mmc=Email_Newsletter-_-Developer_Ed%2BTech-_-WW_WW-_-SkillsNetwork-Courses-IBM-DA0321EN-SkillsNetwork-21426264&cm_mmca1=000026UJ&cm_mmca2=10006555&cm_mmca3=M12345678&cvosrc=email.Newsletter.M12345678&cvo_campaign=000026UJ&cm_mmc=Email_Newsletter-_-Developer_Ed%2BTech-_-WW_WW-_-SkillsNetwork-Courses-IBM-DA0321EN-SkillsNetwork-21426264&cm_mmca1=000026UJ&cm_mmca2=10006555&cm_mmca3=M12345678&cvosrc=email.Newsletter.M12345678&cvo_campaign=000026UJ&cm_mmc=Email_Newsletter-_-Developer_Ed%2BTech-_-WW_WW-_-SkillsNetwork-Courses-IBM-DA0321EN-SkillsNetwork-21426264&cm_mmca1=000026UJ&cm_mmca2=10006555&cm_mmca3=M12345678&cvosrc=email.Newsletter.M12345678&cvo_campaign=000026UJ&cm_mmc=Email_Newsletter-_-Developer_Ed%2BTech-_-WW_WW-_-SkillsNetwork-Courses-IBM-DA0321EN-SkillsNetwork-21426264&cm_mmca1=000026UJ&cm_mmca2=10006555&cm_mmca3=M12345678&cvosrc=email.Newsletter.M12345678&cvo_campaign=000026UJ&cm_mmc=Email_Newsletter-_-Developer_Ed%2BTech-_-WW_WW-_-SkillsNetwork-Courses-IBM-DA0321EN-SkillsNetwork-21426264&cm_mmca1=000026UJ&cm_mmca2=10006555&cm_mmca3=M12345678&cvosrc=email.Newsletter.M12345678&cvo_campaign=000026UJ&cm_mmc=Email_Newsletter-_-Developer_Ed%2BTech-_-WW_WW-_-SkillsNetwork-Courses-IBM-DA0321EN-SkillsNetwork-21426264&cm_mmca1=000026UJ&cm_mmca2=10006555&cm_mmca3=M12345678&cvosrc=email.Newsletter.M12345678&cvo_campaign=000026UJ&cm_mmc=Email_Newsletter-_-Developer_Ed%2BTech-_-WW_WW-_-SkillsNetwork-Courses-IBM-DA0321EN-SkillsNetwork-21426264&cm_mmca1=000026UJ&cm_mmca2=10006555&cm_mmca3=M12345678&cvosrc=email.Newsletter.M12345678&cvo_campaign=000026UJ&cm_mmc=Email_Newsletter-_-Developer_Ed%2BTech-_-WW_WW-_-SkillsNetwork-Courses-IBM-DA0321EN-SkillsNetwork-21426264&cm_mmca1=000026UJ&cm_mmca2=10006555&cm_mmca3=M12345678&cvosrc=email.Newsletter.M12345678&cvo_campaign=000026UJ)\n"
   ]
  },
  {
   "cell_type": "code",
   "execution_count": 1,
   "metadata": {},
   "outputs": [],
   "source": [
    "import requests # you need this module to make an API call"
   ]
  },
  {
   "cell_type": "code",
   "execution_count": 2,
   "metadata": {},
   "outputs": [],
   "source": [
    "api_url = \"http://api.open-notify.org/astros.json\" # this url gives use the astronaut data"
   ]
  },
  {
   "cell_type": "code",
   "execution_count": 3,
   "metadata": {},
   "outputs": [],
   "source": [
    "response = requests.get(api_url) # Call the API using the get method and store the\n",
    "                                # output of the API call in a variable called response."
   ]
  },
  {
   "cell_type": "code",
   "execution_count": 4,
   "metadata": {},
   "outputs": [],
   "source": [
    "if response.ok:             # if all is well(no errors, no network timeouts)\n",
    "    data = response.json()  # store the result in json format in a variable called data\n",
    "                            # the variable data is of type dictionary."
   ]
  },
  {
   "cell_type": "code",
   "execution_count": 5,
   "metadata": {},
   "outputs": [
    {
     "name": "stdout",
     "output_type": "stream",
     "text": [
      "{'number': 7, 'message': 'success', 'people': [{'name': 'Mark Vande Hei', 'craft': 'ISS'}, {'name': 'Oleg Novitskiy', 'craft': 'ISS'}, {'name': 'Pyotr Dubrov', 'craft': 'ISS'}, {'name': 'Thomas Pesquet', 'craft': 'ISS'}, {'name': 'Megan McArthur', 'craft': 'ISS'}, {'name': 'Shane Kimbrough', 'craft': 'ISS'}, {'name': 'Akihiko Hoshide', 'craft': 'ISS'}]}\n"
     ]
    }
   ],
   "source": [
    "print(data)   # print the data just to check the output or for debugging"
   ]
  },
  {
   "cell_type": "markdown",
   "metadata": {},
   "source": [
    "Print the number of astronauts currently on ISS.\n"
   ]
  },
  {
   "cell_type": "code",
   "execution_count": 6,
   "metadata": {},
   "outputs": [
    {
     "name": "stdout",
     "output_type": "stream",
     "text": [
      "7\n"
     ]
    }
   ],
   "source": [
    "print(data.get('number'))"
   ]
  },
  {
   "cell_type": "markdown",
   "metadata": {},
   "source": [
    "Print the names of the astronauts currently on ISS.\n"
   ]
  },
  {
   "cell_type": "code",
   "execution_count": 7,
   "metadata": {},
   "outputs": [
    {
     "name": "stdout",
     "output_type": "stream",
     "text": [
      "There are 7 astronauts on ISS\n",
      "And their names are :\n",
      "Mark Vande Hei\n",
      "Oleg Novitskiy\n",
      "Pyotr Dubrov\n",
      "Thomas Pesquet\n",
      "Megan McArthur\n",
      "Shane Kimbrough\n",
      "Akihiko Hoshide\n"
     ]
    }
   ],
   "source": [
    "astronauts = data.get('people')\n",
    "print(\"There are {} astronauts on ISS\".format(len(astronauts)))\n",
    "print(\"And their names are :\")\n",
    "for astronaut in astronauts:\n",
    "    print(astronaut.get('name'))"
   ]
  },
  {
   "cell_type": "markdown",
   "metadata": {},
   "source": [
    "Hope the warmup was helpful. Good luck with your next lab!\n"
   ]
  },
  {
   "cell_type": "markdown",
   "metadata": {},
   "source": [
    "## Lab: Collect Jobs Data using GitHub Jobs API\n"
   ]
  },
  {
   "cell_type": "markdown",
   "metadata": {},
   "source": [
    "Before you start doing this lab, get familier with the GitHub Jobs API.<br>\n",
    "The documentation for the GitHub Jobs API can be found at <https://jobs.github.com/api><br>\n",
    "\n",
    "<li>Understand what urls to use.<br>\n",
    "<li>Understand what parameters have to be passed.<br>\n",
    "<li>Understand the format of the output data.</li>\n"
   ]
  },
  {
   "cell_type": "markdown",
   "metadata": {},
   "source": [
    "### Objective: Determine the number of jobs currently open for various technologies\n"
   ]
  },
  {
   "cell_type": "markdown",
   "metadata": {},
   "source": [
    "Collect the number of job postings for the following languages using the API:\n",
    "\n",
    "-   C\n",
    "-   C#\n",
    "-   C++\n",
    "-   Java\n",
    "-   JavaScript\n",
    "-   Python\n",
    "-   Scala\n",
    "-   Oracle\n",
    "-   SQL Server\n",
    "-   MySQL Server\n",
    "-   PostgreSQL\n",
    "-   MongoDB\n"
   ]
  },
  {
   "cell_type": "code",
   "execution_count": 8,
   "metadata": {},
   "outputs": [],
   "source": [
    "#Import required libraries\n",
    "import requests"
   ]
  },
  {
   "cell_type": "code",
   "execution_count": 37,
   "metadata": {},
   "outputs": [],
   "source": [
    "baseurl = \"https://jobs.github.com/positions.json\"\n",
    "baseurl = \"https://jobs.github.com/positions.json?description=JavaScript&page=2\"\n",
    "#baseurl = \"https://jobs.github.com/positions.json?description=python&location=toronto\""
   ]
  },
  {
   "cell_type": "markdown",
   "metadata": {},
   "source": [
    "Write a function to get the number of jobs for the given technology.<br>\n",
    "_Note:_ The API gives a maximum of 50 jobs per page.<br>\n",
    "If you get 50 jobs per page, it means there could be some more job listings available.<br>\n",
    "So if you get 50 jobs per page you should make another API call for next page to check for more jobs.<br>\n",
    "If you get less than 50 jobs per page, you can take it as the final count.<br>\n"
   ]
  },
  {
   "cell_type": "code",
   "execution_count": 38,
   "metadata": {},
   "outputs": [],
   "source": [
    "response = requests.get(baseurl) # Call the API using the get method and store the\n",
    "                                # output of the API call in a variable called response."
   ]
  },
  {
   "cell_type": "code",
   "execution_count": 39,
   "metadata": {},
   "outputs": [],
   "source": [
    "if response.ok:             # if all is well(no errors, no network timeouts)\n",
    "    data = response.json()  # store the result in json format in a variable called data\n",
    "                            # the variable data is of type dictionary."
   ]
  },
  {
   "cell_type": "code",
   "execution_count": 40,
   "metadata": {},
   "outputs": [
    {
     "name": "stdout",
     "output_type": "stream",
     "text": [
      "[{'id': 'cf249e51-79f9-4cac-a925-d587babac81e', 'type': 'Full Time', 'url': 'https://jobs.github.com/positions/cf249e51-79f9-4cac-a925-d587babac81e', 'created_at': 'Wed Apr 07 18:12:18 UTC 2021', 'company': 'Transplant Connect', 'company_url': 'http://www.transplantconnect.com', 'location': 'Los Angeles, CA ', 'title': 'Software Developer', 'description': '<p>Work in an incredibly exciting field where people directly benefit from your work in a major (life-saving) way! We have an amazing team of friendly, dedicated, talented developers that keeps growing. The ideal candidate is very comfortable with the Microsoft development stack, including ASP.NET, C#, MVC and SQL. We definitely make use of many cutting-edge tools, including Visual Studio 2019, SQL Server 2019, Bamboo/Octopus Deploy for build &amp; deployments, JIRA for user story management, Confluence as our Knowledge Base, BitBucket for Source Control, Xamarin for mobile development, TypeScript, SignalR, Entity Framework, and so on. We have many interesting projects that you\\'ll be a part of! If you are not already located in Los Angeles, we will likely fly you out to us for 1-2 weeks every quarter or so – that way you get to meet your coworkers face to face!</p>\\n<p><strong>Please: Only candidates that are (1) located in the continental United States, (2) have current U.S. work authorization, and (3) can regularly work during Pacific Time business hours (9:00am to 6:00pm)!</strong></p>\\n<p><strong>Skills &amp; Requirements</strong></p>\\n<p><em>Here’s what you need:</em></p>\\n<ul>\\n<li>Strong programming experience in C#, ASP.NET/MVC, JavaScript/jQuery and SQL Server</li>\\n<li>Plus: Experience with other frameworks such as Entity Framework, Bootstrap, SignalR, SASS/SCSS, TypeScript, xUnit etc.</li>\\n<li>At least 4 years of development experience</li>\\n<li>Excellent oral and written communication skills</li>\\n<li>Curiosity for new technologies!</li>\\n</ul>\\n<p><em>You should work at Transplant Connect because:</em></p>\\n<ul>\\n<li>We build software that truly helps people &amp; saves lives around the world</li>\\n<li>We use cutting-edge technology wherever possible</li>\\n<li>We strive to continuously train and enhance the technical proficiency of all developers</li>\\n<li>We tackle amazing challenges relating to technology and organ donation-transplantation as a whole</li>\\n<li>We have a friendly and fun environment</li>\\n<li>We genuinely care for our employees - you are not just a \"cog in a machine\"</li>\\n<li>We provide competitive pay, health/dental/vision benefits, 401K, paid time off</li>\\n<li>We participate in major developer conferences</li>\\n<li>You WILL like it here!</li>\\n</ul>\\n<p><strong>Benefits &amp; Perks</strong></p>\\n<ul>\\n<li>Medical, Vision, and Dental Benefits</li>\\n<li>Paid Life Insurance</li>\\n<li>Fully-Paid Training</li>\\n<li>Monthly Virtual Team-Building and Social Events</li>\\n</ul>\\n<p><strong>About Us</strong>\\nProvide cutting-edge software solutions to save more lives through the miracle of transplantation: that’s our goal at Transplant Connect.</p>\\n<p>And as the world’s leading provider of human biologics (organ, tissue, eye, placenta, etc.) donation and transplantation software, we’re incredibly proud that our modern, web-based solutions have already enabled millions of lives to be saved and healed around the globe.</p>\\n<p>It’s an exciting time for us. We not only have a steady and continually growing stream of new partners adopting use of our award-winning, secure cloud-based iTransplantSM  Platform, but we remain tireless in our journey to continually evolve and expand our portfolio of products - including the build-out of entirely new revolutionary clinical solutions to transform and improve this key space.</p>\\n', 'how_to_apply': '<p>Email your resume to: <a href=\"mailto:amuller@transplantconnect.com\">amuller@transplantconnect.com</a></p>\\n', 'company_logo': 'https://jobs.github.com/rails/active_storage/blobs/eyJfcmFpbHMiOnsibWVzc2FnZSI6IkJBaHBBZ2VnIiwiZXhwIjpudWxsLCJwdXIiOiJibG9iX2lkIn19--fcdd1016daecd7a33473f6445b855bf847ecb6a9/TC%20Logo%20-%20Always%20Innovating.jpg'}, {'id': '548af8ef-a201-46aa-8689-48c6eebd18d4', 'type': 'Full Time', 'url': 'https://jobs.github.com/positions/548af8ef-a201-46aa-8689-48c6eebd18d4', 'created_at': 'Thu Apr 08 18:50:59 UTC 2021', 'company': 'King County Environmental Lab', 'company_url': None, 'location': 'Seattle, WA', 'title': 'Senior Applications Developer', 'description': '<p>The Environmental Lab (KCEL) is a Section of the Department of Natural Resources and Parks (DNRP) Water and Land Division (WLRD). DNRP\\'s mission is to provide regional parks and trails; protect the region\\'s water, air, land, natural habitats, and historic properties; and reduce, safely dispose of and create resources from wastewater and solid waste. KCEL is a full-service environmental laboratory that provides quality field, laboratory, regulatory, and advisory services in support of King County and other publicly sponsored programs that protect and enhance water quality. (See <a href=\"http://www.kingcounty.gov/depts/dnrp/wlr/sections-programs/environmental-lab.aspx\">http://www.kingcounty.gov/depts/dnrp/wlr/sections-programs/environmental-lab.aspx</a> for more details).</p>\\n<p>KCEL is currently looking for a Term-Limited-Temporary full stack Senior Applications Developer to be part of a team to modernize an existing legacy Laboratory Information Management System (LIMS). Specifically, this project is focused on replacing the legacy Oracle Forms front end with a web-based solution. The primary technologies on this project are: an on prem Oracle database server, Oracle SQL, C#, .Net 5, Azure App Service hosted Web APIs, Azure DevOps CI/CD pipelines, React, Typescript, Telerik React UI components and Cascading Style Sheets (CSS). The project workflow utilizes Azure DevOps product backlog items and corresponding Kanban boards. The project is expected to end 12/31/2024.</p>\\n<p>This project offers several unique opportunities for job satisfaction: ground floor custom development working on a small dedicated team with an experienced technical leader, leveraging modern technologies to provide an efficient new system that drives the daily activities of a well engaged, on-site user community.</p>\\n<p>This position will work under an IT Supervisor both independently and collaboratively as a member of the KCEL LIMS Project Team and KCEL’s scientific staff. Duties of this job encompass all areas of custom software development lifecycle including customer interaction, eliciting user requirements, extracting requirements from the existing codebase, workflow analysis, designing, data modelling, programming, reviewing others code, assisting with test plans, testing and formally documenting all work.\\nDuration: This is a term-limited temporary (TLT) position that is expected to last three and a half (3 1/2) years.</p>\\n<p>Who is Eligible: This position is open to the public.</p>\\n<p>Work Location: This position is located at the King County Environmental Lab, 322 West Ewing Street, Seattle, WA 98119. However, work will also be completed remotely due to the telecommuting mandate implemented by the County’s COVID-19 pandemic response.</p>\\n<p>Work Schedule: This position is exempt from the overtime provision of the Fair Labor Standard Act (FLSA) and is not overtime eligible. This full-time position works a 40-hour work week.</p>\\n<p>Job Duties\\nIncrementally develop, release, and support modernized replacement for existing Lab Information Management System (LIMS) front end application. Duties include:</p>\\n<p>Learn aspects of a complex environmental science business domain and an in-depth understanding of those client needs.\\nLearn business needs and determine systems requirements through client meetings and system analysis.\\nPractice creative approaches to designing the new system to run in PARALLEL compatibility with all the existing legacy systems.\\nManage the full software development life cycle – conception, requirements analysis, specification design, coding, testing, documenting, training, user acceptance refinement, rollout, and support of project modules.\\nManage and regularly communicate personal work status to supervisor, team members, and customers.\\nProvide user support, training, and documentation.\\nProvide code comments and documentation of the project’s software, architecture, and processes to ensure other team members can review code and support each other.\\nIndependently develop project modules and individual web-pages.\\nPerform an advanced degree of relational database programming on Oracle platform, including relational table design, stored procedures, set-based query design, and performance tuning.\\nPerform an advanced degree of programming in both dotnet core C# web API domain and typescript React front end domain.\\nEvaluate existing applications for process efficiency, system integrity, security, and data quality; proactively manage risks; redesign and replace selected application sub-systems as needed.\\nExperience, Qualifications, Knowledge, Skills\\nRequired Qualifications</p>\\n<p>Bachelor’s degree in computer science, engineering, or management information systems (MIS), or the equivalent combination of education and experience.\\nMinimum three years\\' experience developing in a multi-user production environment using the .Net development stack.\\nMinimum five years\\' experience working with major relational databases (Oracle, SQL Server, MySQL, etc), developing stored procedures, relational modeling, maintaining an ERD and database tuning.\\nMinimum two years\\' experience developing unit and integration testing.\\nKnowledge of object-relational mapping, such as Entity Framework.\\nMinimum three years\\' experience developing within a REST Web API architecture.\\nMinimum three years\\' experience developing in a modern javascript SPA framework (e.g. React, Angular, Vue).\\nAdvanced knowledge of relational database and web frontend programming environments.\\nFamiliarity with cloud integration and Microsoft Azure.\\nAdvanced knowledge of software engineering principles, practices, and software development life cycle.\\nAdvanced skills in analyzing client business processes.\\nKnowledge of Agile and Scrum project management principles and methods.\\nExpertise in analysis, problem solving and troubleshooting.\\nAbility to translate user needs, through strong written and oral communication skills, to design requirements and technical documentation.\\nUnintimidated by multiple competing priorities.\\nStrong customer service ethic.\\nInspired by working with a diverse team environment.\\nThe Most Competitive Candidates May Have:\\nExperience working for clients in chemical or biological sciences.\\nExperience with a Laboratory Information Management System.\\nExperience developing Oracle SQL (stored procedures, views).\\nExperience modernizing a legacy application to a web-based platform.\\nExperience contributing to design of a .Net stack application architecture.\\nSpecialization in modern CSS (cascading style sheets), e.g. CSS grid.\\nThree years\\' React experience versus another SPA framework.\\nNecessary Special Requirements:\\nEmployment will be contingent upon successfully passing a background check.\\nSupplemental Information\\nApplication and Selection Process: Application materials will be screened for clarity, completeness including online application, cover letter and resume, and responsiveness to the list of qualifications, skills, and abilities. The most competitive candidates will be invited to participate in a selection process that may include testing, code review, and one or more panel interview. Applications without the following required materials may not be considered for this position.</p>\\n<p>King County application\\nResume\\nCover Letter detailing your background and what you can bring to this position\\nResponses to supplemental questions\\nUnion Representation: This position is not represented by a union.</p>\\n<p>For more information regarding this recruitment, please contact:\\nDeena Prasad, Senior Human Resource Analyst\\nPhone: 206-263-0101\\nEmail: <a href=\"mailto:dprasad@kingcounty.gov\">dprasad@kingcounty.gov</a></p>\\n<p>Forbes recently named King County as one of Washington State\\'s best employers.</p>\\n<p>Together, with leadership and our employees, we\\'re changing the way government delivers service and winning national recognition as a model of excellence. Are you ready to make a difference? Come join the team dedicated to serving one of the nation\\'s best places to live, work and play.</p>\\n<p>Guided by our \"True North\", we are making King County a welcoming community where every person can thrive. We value diversity, inclusion and belonging in our workplace and workforce. To reach this goal we are committed to workforce equity. Equitable recruiting, support, and retention is how we will obtain the highest quality workforce in our region; a workforce that shares and will help advance our guiding principles--we are one team; we solve problems; we focus on the customer; we drive for results; we are racially just; we respect all people; we lead the way; and we are responsible stewards. We encourage people of all backgrounds and identities to apply, including Native American and people of color, immigrants, refugees, women, LGBTQ+, people living with disabilities, and veterans.</p>\\n<p>King County is an Equal Employment Opportunity (EEO) Employer\\nNo person is unlawfully excluded from employment opportunities based on race, color, religion, national origin, sex (including gender identity, sexual orientation and pregnancy), age, genetic information, disability, veteran status, or other protected class. Our EEO policy applies to all employment actions, including but not limited to recruitment, hiring, selection for training, promotion, transfer, demotion, layoff, termination, rates of pay or other forms of compensation.</p>\\n<p>To Apply\\nIf you are interested in pursuing this position, please follow the application instructions carefully. If you need this announcement in an alternate language or format, would like to request accommodation or assistance in the application or assessment process or if you have questions please contact your recruiter listed on this job announcement.</p>\\n<p><a href=\"https://www.governmentjobs.com/careers/kingcounty/jobs/3023330/senior-applications-developer\">https://www.governmentjobs.com/careers/kingcounty/jobs/3023330/senior-applications-developer</a></p>\\n', 'how_to_apply': '<p>Apply At: <a href=\"https://www.governmentjobs.com/careers/kingcounty/jobs/3023330/senior-applications-developer\">https://www.governmentjobs.com/careers/kingcounty/jobs/3023330/senior-applications-developer</a>\\nto apply</p>\\n', 'company_logo': 'https://jobs.github.com/rails/active_storage/blobs/eyJfcmFpbHMiOnsibWVzc2FnZSI6IkJBaHBBaVdnIiwiZXhwIjpudWxsLCJwdXIiOiJibG9iX2lkIn19--344b6ccd13571368b663ad31baae2609fa4ed1e4/Capture.JPG'}, {'id': '9eec73f3-b4f8-4f35-8693-c7cc15cd3d29', 'type': 'Full Time', 'url': 'https://jobs.github.com/positions/9eec73f3-b4f8-4f35-8693-c7cc15cd3d29', 'created_at': 'Thu Apr 08 15:00:42 UTC 2021', 'company': 'Infina, Ltd', 'company_url': 'https://vonq.io/3d0kBB1', 'location': 'McLean', 'title': 'Senior Software Developer', 'description': '<h2>Company Description</h2>\\n<p>Everyone wins if government works better. We provide innovative solutions and services to complex problems and processes. We apply our creative skill set and expertise to empower government. Our proficient staff is at the front line of digital media, financial services, business management, and solution development.</p>\\n<h2>Job Description</h2>\\n<p>Infina is seeking a highly motivated Software Developer with both front and back-end development experience. This individual will perform front end application development in Windows using WPF and WCF, coding in HTLM5 under Visual Studio 2013 or greater, and back-end development creating Windows services and databases (Oracle).</p>\\n<p><strong>If you have an interest and experience in programming, AR/VR and game development, this may be a great fit for you!</strong></p>\\n<h2>Responsibilities</h2>\\n<ul>\\n<li>Work collaboratively with team to receive and respond to project requests</li>\\n<li>Design algorithms and flowcharts to create new software programs and systems</li>\\n<li>Creatively and efficiently design applications and software solutions to meet customer requirements</li>\\n<li>Utilize industry-accepted testing methods to troubleshoot, de-bug, maintain, and improve existing software</li>\\n<li>Compile and assess user feedback to improve software performance</li>\\n<li>Develop technical documentation to guide future software development projects</li>\\n<li>Work with different teams and departments to ensure code quality</li>\\n<li>Create reports and present development updates to teams and stakeholders</li>\\n<li>Customize existing code to ensure efficiency and functionality</li>\\n</ul>\\n<h2>Requirements</h2>\\n<ul>\\n<li>Must have a bachelor\\'s degree in Computer Science or a related field</li>\\n<li>At least eight (8) years of experience in programming software or mobile applications</li>\\n<li>Game development, AR/VR and mixed reality experience is a plus</li>\\n<li>Excellent communications skills and an intellectual curiosity</li>\\n<li>Proficiency in C# coding language and .Net framework; experience with AngularJS framework is a plus</li>\\n<li>Up-to-date knowledge of different programming languages, such as HTML 5, C, C+, C++, Java, Javascript, Ruby and Python</li>\\n<li>Experience with Geographical Information System (GIS) tools</li>\\n<li>Excellent knowledge of the software development life cycle</li>\\n<li>Proficiency with various database tools such as Oracle, MySQL, AWS, cloud computing, etc.</li>\\n<li>Experience with version control systems</li>\\n<li>Strong problem-solving and communication skills</li>\\n<li>Knowledge of Object-Relational Mapping frameworks</li>\\n<li>Experience with Agile and Scrum development methodologies</li>\\n</ul>\\n<h2>Additional Information</h2>\\n<p>Please note that this position will be located in McLean, VA, once we are ready to return to the office.</p>\\n<p>Infina, Ltd. is an equal opportunity employer. All individuals are encouraged to apply.</p>\\n<p><a href=\"https://vonq.io/3d0kBB1\">Click here for the application form!</a></p>\\n', 'how_to_apply': '<p><a href=\"https://vonq.io/3d0kBB1\">Click here for the application form!</a></p>\\n', 'company_logo': 'https://jobs.github.com/rails/active_storage/blobs/eyJfcmFpbHMiOnsibWVzc2FnZSI6IkJBaHBBaDZnIiwiZXhwIjpudWxsLCJwdXIiOiJibG9iX2lkIn19--ad60f4fa4162d3a6a657979cbd374408a1dddce7/infina.jpg'}, {'id': 'df7a06bd-3b0e-4a10-a412-e74acb00d858', 'type': 'Full Time', 'url': 'https://jobs.github.com/positions/df7a06bd-3b0e-4a10-a412-e74acb00d858', 'created_at': 'Thu Apr 08 00:19:54 UTC 2021', 'company': 'NationBuilder', 'company_url': 'https://nationbuilder.com/', 'location': 'Remote within the United States', 'title': 'UI Engineer', 'description': '<p>NationBuilder is seeking a visually oriented UI engineer with a strong command of React, HTML, and CSS. You will be a co-owner of <a href=\"https://www.nationbuilder.design/\">Radius</a>, the NationBuilder product pattern library, and be responsible for translating design requirements into functional and polished user interfaces across the NationBuilder product. You will also be responsible for the maintenance and nurturing of NationBuilder’s stock website theme templates, used by hundreds of thousands of websites around the world. This is a remote position (within the U.S.)</p>\\n<p>This is an excellent position for someone who thrives working in creative environments. You should have experience hacking existing frameworks, and have no problem building your own. You will report directly to the VP of Design.</p>\\n<p>NationBuilder offers everyone the technology and community infrastructure to power organizations, movements, and campaigns. Our customers range from nonprofits and political parties to corporations and individuals just getting started - essentially anyone who’s building a community of people to make something happen in the world. To learn more about NationBuilder, read our <a href=\"https://nationbuilder.com/mission\">mission, beliefs, and values.</a></p>\\n<p><strong>We are looking for someone who...</strong></p>\\n<ul>\\n<li>Has a strong command of HTML/CSS/JavaScript, cross-browser development, and writes semantic, scalable code.</li>\\n<li>Has experience creating React components, writing tests, and delivering delightful user experiences through their command of JavaScript.</li>\\n<li>Has experience building out polished, functional user interfaces in web applications</li>\\n<li>Has experience working on website themes and a familiarity with Bootstrap</li>\\n<li>Is strongly visually oriented and precise in code, communication, and documentation.</li>\\n<li>Is a pragmatic problem solver, knowing how to find the middle ground between \"perfect, but takes forever to code\" and \"fixes it now, but nobody will ever be able to understand what I did.\"</li>\\n<li>Is a clear and concise communicator with excellent collaboration skills.</li>\\n<li>Is humble, passionate about personal growth, and would rather be “better” than “right.”</li>\\n<li>Proactively seeks out feedback and welcomes it as an opportunity to grow.</li>\\n<li>Has a strong work ethic, a quick learner and is willing to work with a fast-paced team.</li>\\n</ul>\\n<p><strong>Apply</strong>\\nTo apply, submit your resume, a link to your portfolio or recent work, and tell us why you\\'re a good fit for the job in 280 characters or less (like a tweet, but you don\\'t have to actually tweet it)!</p>\\n<p>NationBuilder is an equal opportunity employer and we value inclusion. We are committed to finding talent that is not determined on the basis of race, religion, color, national origin, gender, gender identity or expression, sexual orientation, age, marital status, veteran status, or disability status.</p>\\n', 'how_to_apply': '<p><a href=\"https://grnh.se/30bac8563us\">https://grnh.se/30bac8563us</a></p>\\n', 'company_logo': 'https://jobs.github.com/rails/active_storage/blobs/eyJfcmFpbHMiOnsibWVzc2FnZSI6IkJBaHBBaENnIiwiZXhwIjpudWxsLCJwdXIiOiJibG9iX2lkIn19--d8047e2d468b43bf076460e5f2ca634830bc9d04/nationbuilder%20logo.jpg'}, {'id': 'c03b4c36-f126-485f-91c1-7c668087e4ba', 'type': 'Full Time', 'url': 'https://jobs.github.com/positions/c03b4c36-f126-485f-91c1-7c668087e4ba', 'created_at': 'Wed Apr 07 14:49:52 UTC 2021', 'company': 'Temerty Faculty of Medicine - University of Toronto', 'company_url': 'https://jobs.utoronto.ca/job/Developer/545651417/', 'location': 'Toronto', 'title': 'Developer', 'description': \"<p>About us:</p>\\n<p>Home to over 40 departments and institutes, the University of Toronto's Temerty Faculty of Medicine lies at the heart of the Toronto Academic Health Science Network and is a global leader in ground-breaking research and education, spanning clinical medicine, basic science and the rehabilitation sciences sectors.</p>\\n<p>Your opportunity:</p>\\n<p>Discovery Commons provides information technology support for the Faculty of Medicine.Our mission is to partner and collaborate with clients, University, and third parties to determine value based, sustainable technology solutions that enable the Faculty to achieve its academic mission.</p>\\n<p>As Developer, you will design, develop, maintain and support web-based applications for staff, faculty and learners. Working in close collaboration with our Lead Developer and the Service Delivery Team, you will gather business requirements, design and diagram systems, conduct programming and testing, deployment and system refactoring, and actively participate in Scrum processes to move our projects forward. Relying on your initiative and strong desire to stay on top of emerging trends and technologies, you will recommend, test, prototype and develop new methods and tools to help us drive continuous improvement and innovation for the faculty.</p>\\n<p>Your responsibilities will include:</p>\\n<ul>\\n<li>Writing complex technical code and designing, testing and modifying programming code</li>\\n<li>Analyzing user needs and business processes to create programming solutions</li>\\n<li>Evaluating programming code to ensure it has validity, compatibility, and that it meets appropriate standards</li>\\n<li>Developing technical application implementation plans</li>\\n<li>Planning and implementing components of web projects</li>\\n<li>Conducting usability testing for web applications and troubleshooting and resolving technical issues</li>\\n</ul>\\n<p>Essential Qualifications:</p>\\n<ul>\\n<li>Bachelor's Degree in Computer Science, Engineering or acceptable combination of equivalent experience</li>\\n<li>Minimum four years experience in website development and design including requirements analysis, system modeling, and database diagramming</li>\\n<li>Experience developing remote services such as web services using RESTful API’s (JSON, XML) and messaging queues</li>\\n<li>Experience with front end development frameworks (Bootstrap, Vue.js, ember) that support responsive design for multiple platforms (desktop, tablet, smartphone)</li>\\n<li>Demonstrated experience with continuous integration principles and automated testing tools (MAVEN, JENKINS, POSTMAN, COMPOSER, TestNG, JUnit, PHPUnit, Codeception)</li>\\n<li>Demonstrated experience working in an Agile software development environment</li>\\n<li>Demonstrated experience with direct contact with clients, including training end users, and experience in open source development</li>\\n<li>Must be fluent in Enterprise Java (JEE), using JEE technologies such as servlets/JSP and Frameworks such as Spring, Struts or JSF, JDBC or JPA or HIBERNATE (or any other O/R mapper such as OpenJPA, TopLink, etc.)</li>\\n<li>Must be fluent in PHP and experience in using frameworks such as Zend, and Laravel</li>\\n<li>Proficiency in JavaScript, AJAX, DHTML, XHTML, XML, CSS, and JQuery; Strong knowledge of MVC and object-oriented programming</li>\\n<li>Proficiency in IIS, APACHE/TOMCAT, MSSQL, and MySQL; Familiarity with TCP/IP and related Internet protocols</li>\\n<li>Excellent interpersonal and communication (oral and written) skills</li>\\n<li>Must have superior organizational and analytical/diagnostic skills</li>\\n<li>Must be self-motivated, results oriented, a quick learner with a strong customer service focus and impeccable attention to detail</li>\\n<li>Works well under pressure in a fast paced environment, meets strict deadlines and has sound judgment</li>\\n<li>Works effectively both independently and as part of a team</li>\\n</ul>\\n<p>Assets (Nonessential):</p>\\n<ul>\\n<li>Technical certification in Java</li>\\n<li>Familiarity with University of Toronto ITS systems: Shibboleth, GROUPER, LDAP</li>\\n</ul>\\n\", 'how_to_apply': '<p>Please apply via our Careers website:</p>\\n<p><a href=\"https://jobs.utoronto.ca/job/Developer/545651417/\">https://jobs.utoronto.ca/job/Developer/545651417/</a></p>\\n', 'company_logo': 'https://jobs.github.com/rails/active_storage/blobs/eyJfcmFpbHMiOnsibWVzc2FnZSI6IkJBaHBBdm1mIiwiZXhwIjpudWxsLCJwdXIiOiJibG9iX2lkIn19--937ec6bff27ae7a5c2f8f337b978d966281a93ab/MED_Temerty%20Faculty%20of%20Medicine_Colour%20Signature_Print.jpg'}, {'id': '783a4a66-e09d-4bee-b7ec-200291893c4f', 'type': 'Full Time', 'url': 'https://jobs.github.com/positions/783a4a66-e09d-4bee-b7ec-200291893c4f', 'created_at': 'Wed Apr 07 12:35:36 UTC 2021', 'company': 'BusPatrol', 'company_url': 'https://www.buspatrol.com/careers/', 'location': 'Remote', 'title': 'Ruby Developer', 'description': '<p>Who We Are:</p>\\n<p>Our mission is to create a culture of responsibility and awareness on the road. We are devoted to making the journey to and from school safer.\\xa0 We develop partnerships, deploy Safety Tech and manage the entire program.\\xa0\\xa0We have equipped thousands of\\xa0buses across North America with our innovative technology and we continue to educate tens of thousands of\\xa0drivers a month on safety.\\xa0 BusPatrol America cares about student safety. We educate motorists every day by helping to enforce the law and work with school officials to improve safety.\\xa0</p>\\n<p>The Opportunity:</p>\\n<p>Reporting to the Sr. Software Development Lead, the successful candidates will be instrumental in executing and delivering well tested code. This position will require you to work in close concert, as part of a larger geographically distant team where you will be required to share your insights to drive a better process.</p>\\n<p>What we need you to do:</p>\\n<p>Design, build, and maintain efficient, reusable, and tested code\\nContribute in all phases of the development lifecycle\\nBe a productive member of an inclusive team where pairing and peer reviewed code are valued\\nFollow best practices (continuous integration, SCRUM, refactoring, and code standards)\\nDrive continuous adoption and integration of relevant new technologies into design\\nEngineer documented, scalable, and secure APIs from deprecated legacy code</p>\\n<p>\\xa0</p>\\n<p>What you bring:</p>\\n<p>3+ years Ruby development experience\\n3+ years of experience with Ruby web frameworks(ex: Rails or Rack)\\nProven work experience in a software development team\\nDemonstrable knowledge of front-end technologies such as JavaScript, HTML5, CSS3\\nPassion for writing great, simple, clean, efficient code\\nWorkable knowledge of relational databases(ex: MySQL, Postgres)\\nBS/MS degree in Computer Science or equivalent experience\\nKnowledge of version control, such as Git</p>\\n<p>Some Preferred Experience:</p>\\n<p>Vue.js and Jest testing framework\\nSASS experience\\nIoT Technologies\\nFamiliarity with Docker\\nUse of code quality tools (ex: RuboCop)</p>\\n<p>What we offer:</p>\\n<p>An opportunity to help build a company dedicated to children’s safety\\nThe chance to join an innovative and dedicated team, focused on leading edge technology\\nCompetitive salary and benefits package</p>\\n<p>We’re looking for critical members of the BusPatrol team to assist us in our quest to improve children’s safety.\\xa0 This is an important role for us and a great opportunity for the right candidates.\\xa0 Our environment is inclusive, diverse, ignited, built on integrity and deeply committed.\\xa0 Come and help us keep our children safe.</p>\\n', 'how_to_apply': '<p>Qualified candidates, please submit your applications via the link below:\\n<a href=\"https://grnh.se/963dec9c3us\">https://grnh.se/963dec9c3us</a></p>\\n', 'company_logo': 'https://jobs.github.com/rails/active_storage/blobs/eyJfcmFpbHMiOnsibWVzc2FnZSI6IkJBaHBBdmFmIiwiZXhwIjpudWxsLCJwdXIiOiJibG9iX2lkIn19--8d3e1ee855654152d4cf277ab4456779b93f178e/Logo_BP-RGB.png'}, {'id': 'd9fe07ee-4369-4fec-8f33-00ad19b2162f', 'type': 'Full Time', 'url': 'https://jobs.github.com/positions/d9fe07ee-4369-4fec-8f33-00ad19b2162f', 'created_at': 'Wed Apr 07 09:48:51 UTC 2021', 'company': 'Taxy.io', 'company_url': 'https://www.taxy.io/', 'location': 'Aachen', 'title': 'Front End Developer', 'description': '<p><a href=\"http://taxy.io/\">Taxy.io</a> is an award-winning tech startup that brings tax and legal advice to the next level with artificially intelligent software. Our solutions help leading tax and law firms in Germany and Austria to consult their clients in a faster and better way.</p>\\n<p><strong>You will get interesting tasks!</strong></p>\\n<p>The team of <a href=\"http://taxy.io/\">Taxy.io</a> is looking for a Software Developer - Frontend / React (m/f/x) who will work on our frontend, which includes both the development of React applications and Microsoft Office Add-ins.</p>\\n<p><strong>Do we got a match? Your profile</strong></p>\\n<ul>\\n<li>2+ years experience of having worked as a frontend developer in a scrum team</li>\\n<li>Excellent software development skills, in particular in React and JavaScript</li>\\n<li>At best, you already have experience in implementing Microsoft Office Add-Ins</li>\\n<li>Passion for crafting high quality and elegant code</li>\\n<li>Strong interest in new technologies and willingness to learn new things</li>\\n<li>Experience in processing data from REST APIs</li>\\n<li>Independent and solution-oriented work method</li>\\n<li>Experience in agile software development as part of a scrum team (including the regular scrum meetings, pull requests, code reviews, and tools like Jira, Bitbucket, Confluence)</li>\\n<li>Strong communication skills and team player</li>\\n<li>Proficient knowledge of the English language</li>\\n</ul>\\n<p><strong>Why join the <a href=\"http://taxy.io/\">Taxy.io</a> adventure?</strong></p>\\n<p>At <a href=\"http://taxy.io/\">Taxy.io</a> you are at the pulse of time - technology and work wise: You are working as a member of a great agile team of driven people ranging from tech experts and data scientists to experienced startup managers. From day 1 you are dealing with responsibility and always are guided to the best professional and personal growth. Here you can work with a flexible schedule and different, but always fancy places. Of course, we pay a competitive salary.\\nDo you want to have fun with a great young team while disrupting the tax and legal technology industry?</p>\\n<p><img src=\"https://camo.githubusercontent.com/1689644667c6c8ca0f834d2f5e67e7db72b566cb/68747470733a2f2f742e676f686972696e672e636f6d2f682f63346532366631323831383435633162346662333365313537343563336661303739303566316231356631346665303930643564643436626635646632636135\"></p>\\n', 'how_to_apply': '<p><a href=\"https://t.gohiring.com/h/3a7e98079b0218fc3ef92077fdabe6d9dc101c5c52491b2970eddd42da73605f\">application form</a></p>\\n', 'company_logo': 'https://jobs.github.com/rails/active_storage/blobs/eyJfcmFpbHMiOnsibWVzc2FnZSI6IkJBaHBBdk9mIiwiZXhwIjpudWxsLCJwdXIiOiJibG9iX2lkIn19--eb8cbf101ddb6e868ffb8ce3da48bc061697f79c/Taxy.io.jpeg'}, {'id': '11f26dd0-fa2a-4f10-b693-4d07c1143d18', 'type': 'Full Time', 'url': 'https://jobs.github.com/positions/11f26dd0-fa2a-4f10-b693-4d07c1143d18', 'created_at': 'Wed Apr 07 09:41:42 UTC 2021', 'company': 'Carl Zeiss AG', 'company_url': 'https://vonq.io/3fL29hH', 'location': 'Oberkochen', 'title': 'System Architekt / Senior Application Specialist - IT Service Management Tools (m/w/x)', 'description': '<p>Sich etwas Neues trauen, über sich hinauswachsen und dabei die Grenzen des Machbaren neu definieren. Genau das ist es, was unsere Mitarbeiter täglich leben dürfen und sollen. Um mit unseren Innovationen ein Zeichen zu setzen und Großartiges zu ermöglichen. Denn hinter jedem erfolgreichen Unternehmen stehen eine ganze Menge faszinierende Menschen. <strong>Wir suchen Kollegen (m/w/x) die gerne Neues wagen</strong>.</p>\\n<h2>Ihre Rolle</h2>\\n<p>In unserem Team für IT Service Management erarbeiten Sie technische Konzeptionen, implementieren Applikationen in ServiceNow und agieren als kompetenter Ansprechpartner für unsere externen Entwicklungspartner hinsichtlich der technischen Konzepte. Darüber hinaus setzten Sie Anforderungen und Projekte in ServiceNow zusammen mit unseren externen Partnern um und zeigen innovative Lösungsansätze mit unserer ServiceNow Plattform auf.</p>\\n<p>Außerdem werden Sie:</p>\\n<ul>\\n<li>den reibungslosen Plattformbetrieb in Zusammenarbeit mit unseren externen Dienstleistern sicherstellen</li>\\n<li>die Wartbarkeit unserer ServiceNow Instanzen sicherstellen, indem Sie an der stetigen Verbesserung unserer Entwicklungsrichtlinien mitarbeiten</li>\\n</ul>\\n<h2>Sie haben</h2>\\n<ul>\\n<li>ein erfolgreich abgeschlossenes Studium in der Fachrichtung (Wirtschafts-)Informatik oder eine abgeschlossene Ausbildung als Fachinformatiker und bringen mehrjährige, einschlägige Berufserfahrung mit</li>\\n<li>fundierte Kenntnisse in der Softwareentwicklung von Web-Applikationen, Erfahrung mit JavaScript, Angular JS, XML, JSON o.ä. sowie Routine in der Umsetzung von Schnittstellen mit SOAP und REST</li>\\n<li>idealerweise Erfahrung in ServiceNow Entwicklung bzw. Administration und bringen schon Kenntnisse mit Service Mangement Prozessen mit</li>\\n<li>sehr gute Deutsch- und Englischkenntnisse für den täglichen Austausch</li>\\n</ul>\\n<p>In einem offenen und modernen Umfeld mit zahlreichen Entwicklungs- und Weiterbildungsmöglichkeiten, arbeiten die Mitarbeiter bei ZEISS in einer Kultur, die von Expertenwissen und Teamgeist geprägt ist. All das wird getragen von der besonderen Eigentümerstruktur und dem langfristigen Ziel der Carl-Zeiss-Stiftung: Wissenschaft und Gesellschaft gemeinsam voranzubringen.</p>\\n<h2>Heute wagen. Morgen begeistern.</h2>\\n<p>Vielfalt ist ein Teil von ZEISS. Wir freuen uns unabhängig von Geschlecht, Nationalität, ethnischer und sozialer Herkunft, Religion, Weltanschauung, Behinderung, Alter sowie sexueller Orientierung und Identität auf Ihre Bewerbung.</p>\\n<p>Jetzt, in weniger als 10 Minuten über das Bewerbungsformular bewerben: <a href=\"https://vonq.io/3fL29hH\">Klicken Sie hier um zum Bewerbungsformular zu gelangen!</a></p>\\n', 'how_to_apply': '<p><a href=\"https://vonq.io/3fL29hH\">Klicken Sie hier um zum Bewerbungsformular zu gelangen!</a></p>\\n', 'company_logo': 'https://jobs.github.com/rails/active_storage/blobs/eyJfcmFpbHMiOnsibWVzc2FnZSI6IkJBaHBBdkdmIiwiZXhwIjpudWxsLCJwdXIiOiJibG9iX2lkIn19--47daa3ed2e4dd1e6922d8bee251f978226d661cc/Zeiss.jpeg'}, {'id': 'f65756e9-8aaa-4b20-841b-ca991d518f1c', 'type': 'Full Time', 'url': 'https://jobs.github.com/positions/f65756e9-8aaa-4b20-841b-ca991d518f1c', 'created_at': 'Wed Apr 07 09:16:54 UTC 2021', 'company': 'Carl Zeiss AG', 'company_url': 'http://www.zeiss.com', 'location': 'Oberkochen', 'title': 'Entwickler / Anwendungsbetreuer Service Management Tools (ServiceNow) (m/w/x)', 'description': '<h2><strong>Entwickler / Anwendungsbetreuer Service Management Tools (ServiceNow) (m/w/x) München</strong></h2>\\n<p>Sich etwas Neues trauen, über sich hinauswachsen und dabei die Grenzen des Machbaren neu definieren. Genau das ist es, was unsere Mitarbeiter täglich leben dürfen und sollen. Um mit unseren Innovationen ein Zeichen zu setzen und Großartiges zu ermöglichen. Denn hinter jedem erfolgreichen Unternehmen stehen eine ganze Menge faszinierende Menschen.\\n\\u200b</p>\\n<h2><strong>Wir suchen Kollegen (m/w/x) die gerne Neues wagen. Ihre Rolle:</strong></h2>\\n<p>In unserem Team für IT Service Management erarbeiten Sie technische Konzeptionen, implementieren Applikationen in ServiceNow und agieren als kompetenter Ansprechpartner für unsere externen Entwicklungspartner hinsichtlich der technischen Konzepte. Darüber hinaus setzten Sie Anforderungen und Projekte in ServiceNow zusammen mit unseren externen Partnern um und zeigen innovative Lösungsansätze mit unserer ServiceNow Plattform auf.</p>\\n<h2><strong>Außerdem werden Sie:</strong></h2>\\n<ul>\\n<li>den reibungslosen Plattformbetrieb in Zusammenarbeit mit unseren externen Dienstleistern sicherstellen</li>\\n<li>die Wartbarkeit unserer ServiceNow Instanzen sicherstellen, indem Sie an der stetigen Verbesserung unserer Entwicklungsrichtlinien mitarbeiten</li>\\n</ul>\\n<h2><strong>Sie haben:</strong></h2>\\n<ul>\\n<li>ein erfolgreich abgeschlossenes Studium in der Fachrichtung (Wirtschafts-)Informatik oder eine abgeschlossene Ausbildung als Fachinformatiker und bringen mehrjährige, einschlägige Berufserfahrung mit</li>\\n<li>fundierte Kenntnisse in der Softwareentwicklung von Web-Applikationen, Erfahrung mit JavaScript, Angular JS, XML, JSON o.ä. sowie Routine in der Umsetzung von Schnittstellen mit SOAP und REST</li>\\n<li>idealerweise Erfahrung in ServiceNow Entwicklung bzw. Administration und bringen schon Kenntnisse mit Service Mangement Prozessen mit</li>\\n<li>sehr gute Deutsch- und Englischkenntnisse für den täglichen Austausch\\n\\u200b</li>\\n</ul>\\n<p>In einem offenen und modernen Umfeld mit zahlreichen Entwicklungs- und Weiterbildungsmöglichkeiten, arbeiten die Mitarbeiter bei ZEISS in einer Kultur, die von Expertenwissen und Teamgeist geprägt ist. All das wird getragen von der besonderen Eigentümerstruktur und dem langfristigen Ziel der Carl-Zeiss-Stiftung: Wissenschaft und Gesellschaft gemeinsam voranzubringen.</p>\\n<h2><strong>Heute wagen. Morgen begeistern.</strong></h2>\\n<p>Vielfalt ist ein Teil von ZEISS. Wir freuen uns unabhängig von Geschlecht, Nationalität, ethnischer und sozialer Herkunft, Religion, Weltanschauung, Behinderung, Alter sowie sexueller Orientierung und Identität auf Ihre Bewerbung.</p>\\n<p>Jetzt, in weniger als 10 Minuten bewerben über das Bewerbungsformular.</p>\\n<p><a href=\"https://vonq.io/3wCoxQ7\">Klicken Sie hier um zum Bewerbungsformular zu gelangen!</a></p>\\n', 'how_to_apply': '<p><a href=\"https://vonq.io/3wCoxQ7\">Klicken Sie hier um zum Bewerbungsformular zu gelangen!</a></p>\\n', 'company_logo': 'https://jobs.github.com/rails/active_storage/blobs/eyJfcmFpbHMiOnsibWVzc2FnZSI6IkJBaHBBdXVmIiwiZXhwIjpudWxsLCJwdXIiOiJibG9iX2lkIn19--e46df8c27614bb9da900b8316ee23af14dd2f409/Carl%20Zeiss%20logo.jpeg'}, {'id': '061213f4-aa12-4fd0-a9b9-6e5c0e598a0c', 'type': 'Full Time', 'url': 'https://jobs.github.com/positions/061213f4-aa12-4fd0-a9b9-6e5c0e598a0c', 'created_at': 'Wed Apr 07 08:38:27 UTC 2021', 'company': 'Bison Technologies', 'company_url': 'https://vonq.io/2RbJ1PE', 'location': 'Oklahoma City', 'title': 'Senior Software Engineer (Remote Opportunities Available)', 'description': '<p>As a Senior Software Engineer, you will bring technical expertise in full stack web development to deliver high-quality software solutions. You should embody a passion for continuous improvement, be comfortable working in an agile development environment and be familiar with standard testing methodologies.</p>\\n<h2><strong>Key Responsibilities</strong></h2>\\n<ul>\\n<li>Analyze, design and develop tests and test-automation suites</li>\\n<li>Design and develop a processing platform using various configuration management technologies</li>\\n<li>Test software development methodology in an agile environment</li>\\n<li>Provide ongoing maintenance, support and enhancements in existing systems and platforms</li>\\n<li>Collaborate cross-functionally with data scientists, business users, project managers and other engineers to achieve elegant solutions</li>\\n<li>Provide recommendations for continuous improvement</li>\\n<li>Work alongside other engineers on the team to elevate technology and consistently apply best practices</li>\\n</ul>\\n<h2><strong>Qualifications</strong></h2>\\n<ul>\\n<li>Bachelor’s Degree or equivalent education and/or work experience</li>\\n<li>5+ years’ experience engineering and architecting SOA systems using technologies like Node.js, React, MongoDB, Elasticsearch, and Git</li>\\n<li>Experience in Java, JavaScript, TypeScript, Ruby, and/or Python</li>\\n<li>Experience with test-driven development and automated testing frameworks</li>\\n<li>Experience with Scrum/Agile development methodologies</li>\\n<li>Capable of delivering on multiple competing priorities with little supervision</li>\\n<li>Excellent verbal and written communication skills</li>\\n<li>Comfortable in a fast-moving, cross-functional team in a start-up environment</li>\\n</ul>\\n', 'how_to_apply': '<p><a href=\"https://vonq.has-jobs.com\">Click here for the application form!</a></p>\\n', 'company_logo': 'https://jobs.github.com/rails/active_storage/blobs/eyJfcmFpbHMiOnsibWVzc2FnZSI6IkJBaHBBdHVmIiwiZXhwIjpudWxsLCJwdXIiOiJibG9iX2lkIn19--57eabc5b7f32803869dd8d996bdc0c9f1b8c17fc/logo-dark.png'}, {'id': '4972aa08-d09f-49bb-97de-d009a1f6baed', 'type': 'Full Time', 'url': 'https://jobs.github.com/positions/4972aa08-d09f-49bb-97de-d009a1f6baed', 'created_at': 'Wed Apr 07 04:44:31 UTC 2021', 'company': 'Saito', 'company_url': 'http://saito.io', 'location': 'China/Thailand/Remote, East Asian timezones preferred', 'title': 'Blockchain Engineer - Rust and/or Node.js', 'description': \"<p>Saito is a next-gen Tier 1 Blockchain. At Saito’s heart is a simple yet elegant mechanism that rethinks and fixes the economic problems in proof-of-work and proof-of-stake networks. This makes Saito unlike any other blockchain. We are also different from many other blockchain projects in our focus on building working code that supports a real-world community that is growing on our network.</p>\\n<p>We currently have a proof-of-concept network running on Node.js that is supporting tens of thousands of daily transactions. We’ve recently closed a round of fundraising led by Spark Digital Capital, DFG and Block Dream Fund by OKex and are approaching a public sale and exchange listing of the network token. We are looking to expand our development team and move beyond the prototype stage.</p>\\n<p>The next steps in our roadmap are to build out a performant Reference Implementation of Saito in Rust, and to improve  the Javascript proof-of-concept into a robust user-facing platform on which it is easy to build and deploy high-throughput peer-to-peer applications.</p>\\n<p>We’ve chosen Rust for its focus on security and high performance, especially with multi-core parallel processing. We’ve chosen Javascript/Node.js for it’s approachability and flexibility, especially for supporting DAPPs.</p>\\n<p>Saito is currently a small team and as an early technical hire you'll wear many hats. However, primary responsibility will be development of the aforementioned Rust and Javascript implementations. The ideal candidate will be able to benchmark performance as the codebase is developed and leverage Design by Contract and Test-Driven Development to produce a high-quality API for developers.</p>\\n<p>Rolls: Rust Developer or Javascript/Node Developer</p>\\n<p>Location: Our team is located in Beijing and Bangkok. Remote work is acceptable. While COVID makes travel impossible now, we prefer to work with candidates who are able to spend at least a month working on-site with us every year.</p>\\n<p>Requirements: Enthusiasm for blockchain, distributed systems and/or public key infrastructure. Experience with or open to learning Rust, experience with Node/Javascript.</p>\\n<p>Nice-to-have: system administration, Chinese.</p>\\n<p>Salary: Above market rate depending on experience, optionally payable in cryptocurrency</p>\\n<p>Benefits: standard benefits</p>\\n<p>If you’re excited by the idea of building highly scalable software we would love to hear from you.</p>\\n\", 'how_to_apply': '<p>Please send an email, including your resume, to <a href=\"mailto:clay@saito.tech\">clay@saito.tech</a>. Code samples are also helpful.</p>\\n', 'company_logo': 'https://jobs.github.com/rails/active_storage/blobs/eyJfcmFpbHMiOnsibWVzc2FnZSI6IkJBaHBBdFdmIiwiZXhwIjpudWxsLCJwdXIiOiJibG9iX2lkIn19--e4ba0b90940a58f38801d9ecb4c5a98a92663092/top_logo.png'}]\n"
     ]
    }
   ],
   "source": [
    "print(data)   # print the data just to check the output or for debugging"
   ]
  },
  {
   "cell_type": "code",
   "execution_count": 17,
   "metadata": {},
   "outputs": [],
   "source": [
    "def get_number_of_jobs(technology):\n",
    "    tech = technology\n",
    "    #print (tech)\n",
    "    page_number = 1; number_of_jobs = 50; total_no_of_jobs = 0\n",
    "    while number_of_jobs == 50:\n",
    "        baseurl = \"https://jobs.github.com/positions.json?description=\"+tech+\"&page=\"\n",
    "        api_url = baseurl + str(page_number)\n",
    "        #print(api_url)\n",
    "        number_of_jobs = 0\n",
    "        response = requests.get(api_url)\n",
    "        if response.ok:             # if all is well(no errors, no network timeouts)\n",
    "            data = response.json()  # store the result in json format in a variable called data\n",
    "                                # the variable data is of type dictionary.\n",
    "        number_of_jobs = len(data)\n",
    "        total_no_of_jobs = total_no_of_jobs + number_of_jobs\n",
    "        #print (total_no_of_jobs)\n",
    "        page_number = page_number + 1\n",
    "    return tech,total_no_of_jobs"
   ]
  },
  {
   "cell_type": "markdown",
   "metadata": {},
   "source": [
    "Call the function for Python and check if it is working.\n"
   ]
  },
  {
   "cell_type": "code",
   "execution_count": 18,
   "metadata": {},
   "outputs": [
    {
     "name": "stdout",
     "output_type": "stream",
     "text": [
      "('Scala', 45)\n"
     ]
    }
   ],
   "source": [
    "print(get_number_of_jobs('Scala'))"
   ]
  },
  {
   "cell_type": "markdown",
   "metadata": {},
   "source": [
    "### Store the results in an excel file\n"
   ]
  },
  {
   "cell_type": "markdown",
   "metadata": {},
   "source": [
    "Call the API for all the given technologies above and write the results in an excel spreadsheet.\n"
   ]
  },
  {
   "cell_type": "markdown",
   "metadata": {},
   "source": [
    "If you do not know how create excel file using python, double click here for **hints**.\n",
    "\n",
    "<!--\n",
    "\n",
    "from openpyxl import Workbook        # import Workbook class from module openpyxl\n",
    "wb=Workbook()                        # create a workbook object\n",
    "ws=wb.active                         # use the active worksheet\n",
    "ws.append(['Country','Continent'])   # add a row with two columns 'Country' and 'Continent'\n",
    "ws.append(['Eygpt','Africa'])        # add a row with two columns 'Egypt' and 'Africa'\n",
    "ws.append(['India','Asia'])          # add another row\n",
    "ws.append(['France','Europe'])       # add another row\n",
    "wb.save(\"countries.xlsx\")            # save the workbook into a file called countries.xlsx\n",
    "\n",
    "\n",
    "-->\n"
   ]
  },
  {
   "cell_type": "markdown",
   "metadata": {},
   "source": [
    "Create a python list of all technologies for which you need to find the number of jobs postings.\n"
   ]
  },
  {
   "cell_type": "code",
   "execution_count": 32,
   "metadata": {},
   "outputs": [],
   "source": [
    "#your code goes here\n",
    "tech_list = ['C', 'C Sharp', \n",
    "'C++',\n",
    "'Java',\n",
    "'JavaScript',\n",
    "'Python',\n",
    "'Scala',\n",
    "'Oracle',\n",
    "'SQL Server',\n",
    "'MySQL Server',\n",
    "'PostgreSQL',\n",
    "'MongoDB']"
   ]
  },
  {
   "cell_type": "markdown",
   "metadata": {},
   "source": [
    "Import libraries required to create excel spreadsheet\n"
   ]
  },
  {
   "cell_type": "code",
   "execution_count": 33,
   "metadata": {},
   "outputs": [],
   "source": [
    "from openpyxl import Workbook"
   ]
  },
  {
   "cell_type": "markdown",
   "metadata": {},
   "source": [
    "Create a workbook and select the active worksheet\n"
   ]
  },
  {
   "cell_type": "code",
   "execution_count": 34,
   "metadata": {},
   "outputs": [],
   "source": [
    "wb = Workbook()\n",
    "ws=wb.active"
   ]
  },
  {
   "cell_type": "markdown",
   "metadata": {},
   "source": [
    "Find the number of jobs postings for each of the technology in the above list.\n",
    "Write the technology name and the number of jobs postings into the excel spreadsheet.\n"
   ]
  },
  {
   "cell_type": "code",
   "execution_count": 35,
   "metadata": {},
   "outputs": [
    {
     "name": "stdout",
     "output_type": "stream",
     "text": [
      "('C', 188)\n",
      "('C Sharp', 1)\n",
      "('C++', 188)\n",
      "('Java', 83)\n",
      "('JavaScript', 61)\n",
      "('Python', 46)\n",
      "('Scala', 45)\n",
      "('Oracle', 8)\n",
      "('SQL Server', 16)\n",
      "('MySQL Server', 9)\n",
      "('PostgreSQL', 13)\n",
      "('MongoDB', 8)\n"
     ]
    }
   ],
   "source": [
    "for tech in tech_list:\n",
    "    row = get_number_of_jobs(tech)\n",
    "    print(row)\n",
    "    ws.append(row)"
   ]
  },
  {
   "cell_type": "markdown",
   "metadata": {},
   "source": [
    "Save into an excel spreadsheet named 'github-job-postings.xlsx'.\n"
   ]
  },
  {
   "cell_type": "code",
   "execution_count": 36,
   "metadata": {},
   "outputs": [],
   "source": [
    "wb.save('github-job-postings.xlsx')"
   ]
  },
  {
   "cell_type": "markdown",
   "metadata": {},
   "source": [
    "## Authors\n"
   ]
  },
  {
   "cell_type": "markdown",
   "metadata": {},
   "source": [
    "Renju Mathew   \n",
    "Ramesh Sannareddy"
   ]
  },
  {
   "cell_type": "markdown",
   "metadata": {},
   "source": [
    "### Other Contributors\n"
   ]
  },
  {
   "cell_type": "markdown",
   "metadata": {},
   "source": [
    "Rav Ahuja\n"
   ]
  },
  {
   "cell_type": "markdown",
   "metadata": {},
   "source": [
    "## Change Log\n"
   ]
  },
  {
   "cell_type": "markdown",
   "metadata": {},
   "source": [
    "| Date (YYYY-MM-DD) | Version | Changed By        | Change Description                 |\n",
    "| ----------------- | ------- | ----------------- | ---------------------------------- |\n",
    "| 2021-05-07        | 1.0     | Renju Mathew      | Completed notebook                 |\n",
    "| 2020-10-17        | 0.1     | Ramesh Sannareddy | Created initial version of the lab |"
   ]
  },
  {
   "cell_type": "markdown",
   "metadata": {},
   "source": [
    " Copyright © 2020 IBM Corporation. This notebook and its source code are released under the terms of the [MIT License](https://cognitiveclass.ai/mit-license?cm_mmc=Email_Newsletter-_-Developer_Ed%2BTech-_-WW_WW-_-SkillsNetwork-Courses-IBM-DA0321EN-SkillsNetwork-21426264&cm_mmca1=000026UJ&cm_mmca2=10006555&cm_mmca3=M12345678&cvosrc=email.Newsletter.M12345678&cvo_campaign=000026UJ&cm_mmc=Email_Newsletter-_-Developer_Ed%2BTech-_-WW_WW-_-SkillsNetwork-Courses-IBM-DA0321EN-SkillsNetwork-21426264&cm_mmca1=000026UJ&cm_mmca2=10006555&cm_mmca3=M12345678&cvosrc=email.Newsletter.M12345678&cvo_campaign=000026UJ&cm_mmc=Email_Newsletter-_-Developer_Ed%2BTech-_-WW_WW-_-SkillsNetwork-Courses-IBM-DA0321EN-SkillsNetwork-21426264&cm_mmca1=000026UJ&cm_mmca2=10006555&cm_mmca3=M12345678&cvosrc=email.Newsletter.M12345678&cvo_campaign=000026UJ&cm_mmc=Email_Newsletter-_-Developer_Ed%2BTech-_-WW_WW-_-SkillsNetwork-Courses-IBM-DA0321EN-SkillsNetwork-21426264&cm_mmca1=000026UJ&cm_mmca2=10006555&cm_mmca3=M12345678&cvosrc=email.Newsletter.M12345678&cvo_campaign=000026UJ&cm_mmc=Email_Newsletter-_-Developer_Ed%2BTech-_-WW_WW-_-SkillsNetwork-Courses-IBM-DA0321EN-SkillsNetwork-21426264&cm_mmca1=000026UJ&cm_mmca2=10006555&cm_mmca3=M12345678&cvosrc=email.Newsletter.M12345678&cvo_campaign=000026UJ&cm_mmc=Email_Newsletter-_-Developer_Ed%2BTech-_-WW_WW-_-SkillsNetwork-Courses-IBM-DA0321EN-SkillsNetwork-21426264&cm_mmca1=000026UJ&cm_mmca2=10006555&cm_mmca3=M12345678&cvosrc=email.Newsletter.M12345678&cvo_campaign=000026UJ).\n"
   ]
  }
 ],
 "metadata": {
  "celltoolbar": "Hide code",
  "kernelspec": {
   "display_name": "Python 3",
   "language": "python",
   "name": "python3"
  },
  "language_info": {
   "codemirror_mode": {
    "name": "ipython",
    "version": 3
   },
   "file_extension": ".py",
   "mimetype": "text/x-python",
   "name": "python",
   "nbconvert_exporter": "python",
   "pygments_lexer": "ipython3",
   "version": "3.9.5"
  }
 },
 "nbformat": 4,
 "nbformat_minor": 4
}
